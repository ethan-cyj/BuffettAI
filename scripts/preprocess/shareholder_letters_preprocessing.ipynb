{
 "cells": [
  {
   "cell_type": "code",
   "execution_count": 1,
   "metadata": {},
   "outputs": [],
   "source": [
    "import re\n",
    "from PyPDF2 import PdfReader\n",
    "import pandas as pd"
   ]
  },
  {
   "cell_type": "code",
   "execution_count": 8,
   "metadata": {},
   "outputs": [],
   "source": [
    "# Initialize an empty list to store the data\n",
    "data = []\n",
    "\n",
    "for year in range(1977, 2025):\n",
    "    # Read the PDF\n",
    "    reader = PdfReader(f\"./shareholder_letters/Chairman's Letter - {year}.pdf\")\n",
    "    text = \"\"\n",
    "    for page in reader.pages:\n",
    "        text += page.extract_text()\n",
    "\n",
    "    # Replace newlines with spaces\n",
    "    cleaned_text = text.replace(\"\\n\", \" \") \n",
    "\n",
    "    # Remove sequences of 3 or more '.' or '*'\n",
    "    cleaned_text = re.sub(r\"\\.{3,}\", \" \", cleaned_text)  # Replace sequences of 3 or more dots\n",
    "    cleaned_text = re.sub(r\"\\*{3,}\", \" \", cleaned_text)  # Replace sequences of 3 or more asterisks\n",
    "\n",
    "    # Append the year and cleaned text to the data list\n",
    "    data.append({\"year\": year, \"text\": cleaned_text})\n",
    "\n",
    "df = pd.DataFrame(data)\n",
    "df.to_pickle(\"../../data/shareholder_letters.pkl\")"
   ]
  },
  {
   "cell_type": "markdown",
   "metadata": {},
   "source": [
    "Tested using spaCy and wordninja to split some joined words but the results were not satisfactory.\n",
    "\n",
    "spaCy doesn't seem to work well enough.\n",
    "\n",
    "wordninja splits on most punctuation such as apostrophies e.g., Berkshire's -> Berkshire s. This might lead to poor chunking results.\n",
    "\n",
    "Given PdfReader works quite well and doesn't have too many joined words (compared to PdfPlumber as tested), we'll stick with this for now."
   ]
  }
 ],
 "metadata": {
  "kernelspec": {
   "display_name": ".venv",
   "language": "python",
   "name": "python3"
  },
  "language_info": {
   "codemirror_mode": {
    "name": "ipython",
    "version": 3
   },
   "file_extension": ".py",
   "mimetype": "text/x-python",
   "name": "python",
   "nbconvert_exporter": "python",
   "pygments_lexer": "ipython3",
   "version": "3.10.9"
  }
 },
 "nbformat": 4,
 "nbformat_minor": 2
}
