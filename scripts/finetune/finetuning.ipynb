{
 "cells": [
  {
   "cell_type": "code",
   "execution_count": 9,
   "metadata": {},
   "outputs": [],
   "source": [
    "#pip install transformers datasets accelerate"
   ]
  },
  {
   "cell_type": "code",
   "execution_count": null,
   "metadata": {},
   "outputs": [
    {
     "name": "stdout",
     "output_type": "stream",
     "text": [
      "Filtered dataset size: 439\n"
     ]
    }
   ],
   "source": [
    "import pandas as pd\n",
    "df = pd.read_csv('../preprocess/combined_finetuning_df.csv')\n",
    "df = df[df[\"Buffett_statement\"] == 1]\n",
    "\n",
    "df = df.dropna(subset=[\"Question\", \"Answer\"])  # drop any incomplete rows\n",
    "print(f\"Filtered dataset size: {len(df)}\")"
   ]
  },
  {
   "cell_type": "code",
   "execution_count": 11,
   "metadata": {},
   "outputs": [],
   "source": [
    "from datasets import Dataset\n",
    "\n",
    "# Convert pandas DataFrame to HF Dataset\n",
    "dataset = Dataset.from_pandas(df)\n",
    "\n",
    "# Optionally, split into train/validation\n",
    "# For a small dataset, you might do e.g. 90% train, 10% val\n",
    "dataset = dataset.train_test_split(test_size=0.1, seed=42)\n",
    "train_dataset = dataset[\"train\"]\n",
    "val_dataset = dataset[\"test\"]"
   ]
  },
  {
   "cell_type": "code",
   "execution_count": null,
   "metadata": {},
   "outputs": [
    {
     "name": "stderr",
     "output_type": "stream",
     "text": [
      "Downloading shards:   0%|          | 0/3 [00:00<?, ?it/s]"
     ]
    }
   ],
   "source": [
    "import torch\n",
    "from transformers import (\n",
    "    AutoTokenizer,\n",
    "    AutoModelForCausalLM,\n",
    "    Trainer,\n",
    "    TrainingArguments,\n",
    "    DataCollatorForLanguageModeling\n",
    ")\n",
    "\n",
    "model_name = \"AdaptLLM/finance-chat\"\n",
    "tokenizer = AutoTokenizer.from_pretrained(model_name)\n",
    "model = AutoModelForCausalLM.from_pretrained(model_name, torch_dtype=torch.float16)\n",
    "# ^ Use torch_dtype if model is half-precision or you have GPU memory constraints\n"
   ]
  },
  {
   "cell_type": "code",
   "execution_count": null,
   "metadata": {},
   "outputs": [],
   "source": [
    "def preprocess_function(examples):\n",
    "    # Build prompt text\n",
    "    texts = [\n",
    "        f\"Question: {q}\\nAnswer: {a}\"\n",
    "        for q, a in zip(examples[\"Question\"], examples[\"Answer\"])\n",
    "    ]\n",
    "    \n",
    "    # Tokenize in a causal manner\n",
    "    # Note: We do not separate 'input' vs 'label' because in CLM\n",
    "    # the model learns to predict every next token in the sequence.\n",
    "    # We'll rely on the standard LM masking in the collator.\n",
    "    tokenized = tokenizer(\n",
    "        texts,\n",
    "        truncation=True,\n",
    "        max_length=512,  # adjust as needed\n",
    "        return_special_tokens_mask=True\n",
    "    )\n",
    "    return tokenized\n",
    "\n",
    "train_dataset = train_dataset.map(preprocess_function, batched=True)\n",
    "val_dataset = val_dataset.map(preprocess_function, batched=True)\n"
   ]
  },
  {
   "cell_type": "code",
   "execution_count": null,
   "metadata": {},
   "outputs": [],
   "source": [
    "data_collator = DataCollatorForLanguageModeling(\n",
    "    tokenizer=tokenizer, \n",
    "    mlm=False  # Because this is Causal LM, not Masked LM\n",
    ")\n"
   ]
  },
  {
   "cell_type": "code",
   "execution_count": null,
   "metadata": {},
   "outputs": [],
   "source": [
    "training_args = TrainingArguments(\n",
    "    output_dir=\"adaptllm-finance-buffett\",\n",
    "    per_device_train_batch_size=1,  # adjust to fit GPU\n",
    "    per_device_eval_batch_size=1,\n",
    "    gradient_accumulation_steps=8,  # accumulate grads to simulate bigger batch\n",
    "    num_train_epochs=3,\n",
    "    evaluation_strategy=\"steps\",\n",
    "    eval_steps=100,\n",
    "    logging_steps=50,\n",
    "    save_steps=500,\n",
    "    save_total_limit=2,\n",
    "    fp16=True,  # if your GPU supports it\n",
    "    report_to=\"none\",  # or \"tensorboard\"\n",
    ")\n",
    "\n",
    "trainer = Trainer(\n",
    "    model=model,\n",
    "    args=training_args,\n",
    "    train_dataset=train_dataset,\n",
    "    eval_dataset=val_dataset,\n",
    "    tokenizer=tokenizer,\n",
    "    data_collator=data_collator\n",
    ")\n",
    "\n",
    "trainer.train()\n"
   ]
  },
  {
   "cell_type": "code",
   "execution_count": null,
   "metadata": {},
   "outputs": [],
   "source": [
    "# Let's load the trained model from the output dir if needed\n",
    "# model = AutoModelForCausalLM.from_pretrained(\"adaptllm-finance-buffett\")\n",
    "\n",
    "# Directly use model.generate():\n",
    "def buffett_answer(question, max_new_tokens=100):\n",
    "    prompt = f\"Question: {question}\\nAnswer:\"\n",
    "    inputs = tokenizer(prompt, return_tensors=\"pt\").to(model.device)\n",
    "    with torch.no_grad():\n",
    "        output_ids = model.generate(\n",
    "            **inputs,\n",
    "            max_new_tokens=max_new_tokens,\n",
    "            do_sample=True,\n",
    "            top_k=50,\n",
    "            top_p=0.95,\n",
    "            temperature=0.8\n",
    "        )\n",
    "    return tokenizer.decode(output_ids[0], skip_special_tokens=True)\n",
    "\n",
    "# Try it\n",
    "test_q = \"How should I think about investing during a recession?\"\n",
    "response = buffett_answer(test_q)\n",
    "print(response)\n",
    "# \"Question: How should I think about investing during a recession? \n",
    "#  Answer: I focus on companies with strong fundamentals...\"\n"
   ]
  }
 ],
 "metadata": {
  "kernelspec": {
   "display_name": "venv",
   "language": "python",
   "name": "python3"
  },
  "language_info": {
   "codemirror_mode": {
    "name": "ipython",
    "version": 3
   },
   "file_extension": ".py",
   "mimetype": "text/x-python",
   "name": "python",
   "nbconvert_exporter": "python",
   "pygments_lexer": "ipython3",
   "version": "3.11.4"
  }
 },
 "nbformat": 4,
 "nbformat_minor": 2
}
