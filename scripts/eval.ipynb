{
 "cells": [
  {
   "cell_type": "code",
   "execution_count": null,
   "metadata": {},
   "outputs": [],
   "source": [
    "#TODO\n",
    "#1. need to generate test set queries. can use finetuning set queries??. \n",
    "\t# need balanced set of queries that will be routed to each ollama/ rag+openai\n",
    "#2. generate baseline model (openai + prompt?) responses and scores\n",
    "#3. generate llm responses and llm judge scores\n",
    "#4. generate plots"
   ]
  },
  {
   "cell_type": "code",
   "execution_count": 15,
   "metadata": {},
   "outputs": [
    {
     "name": "stderr",
     "output_type": "stream",
     "text": [
      "/Users/ethan/Documents/GitHub/BuffettAI/venv/lib/python3.11/site-packages/tqdm/auto.py:21: TqdmWarning: IProgress not found. Please update jupyter and ipywidgets. See https://ipywidgets.readthedocs.io/en/stable/user_install.html\n",
      "  from .autonotebook import tqdm as notebook_tqdm\n"
     ]
    },
    {
     "ename": "ModuleNotFoundError",
     "evalue": "No module named 'googlesearch'",
     "output_type": "error",
     "traceback": [
      "\u001b[31m---------------------------------------------------------------------------\u001b[39m",
      "\u001b[31mModuleNotFoundError\u001b[39m                       Traceback (most recent call last)",
      "\u001b[36mCell\u001b[39m\u001b[36m \u001b[39m\u001b[32mIn[15]\u001b[39m\u001b[32m, line 2\u001b[39m\n\u001b[32m      1\u001b[39m \u001b[38;5;66;03m# Example test loop (e.g., in your evaluation_notebook.ipynb)\u001b[39;00m\n\u001b[32m----> \u001b[39m\u001b[32m2\u001b[39m \u001b[38;5;28;01mfrom\u001b[39;00m\u001b[38;5;250m \u001b[39m\u001b[34;01mrag\u001b[39;00m\u001b[34;01m.\u001b[39;00m\u001b[34;01mrag_pipeline\u001b[39;00m\u001b[38;5;250m \u001b[39m\u001b[38;5;28;01mimport\u001b[39;00m RAGPipeline\n\u001b[32m      4\u001b[39m pipeline = RAGPipeline()\n\u001b[32m      6\u001b[39m test_queries = [\n\u001b[32m      7\u001b[39m     \u001b[33m\"\u001b[39m\u001b[33mWho is Warren Buffett and what is your investment philosophy?\u001b[39m\u001b[33m\"\u001b[39m,\n\u001b[32m      8\u001b[39m     \u001b[33m\"\u001b[39m\u001b[33mTell me about the latest trades of Berkshire Hathaway.\u001b[39m\u001b[33m\"\u001b[39m,\n\u001b[32m   (...)\u001b[39m\u001b[32m     11\u001b[39m     \u001b[33m\"\u001b[39m\u001b[33mExplain the significance of shareholder letters in your investment strategy.\u001b[39m\u001b[33m\"\u001b[39m\n\u001b[32m     12\u001b[39m ]\n",
      "\u001b[36mFile \u001b[39m\u001b[32m~/Documents/GitHub/BuffettAI/scripts/rag/rag_pipeline.py:14\u001b[39m\n\u001b[32m     12\u001b[39m \u001b[38;5;28;01mfrom\u001b[39;00m\u001b[38;5;250m \u001b[39m\u001b[34;01mrag\u001b[39;00m\u001b[34;01m.\u001b[39;00m\u001b[34;01mprompt_engineering\u001b[39;00m\u001b[38;5;250m \u001b[39m\u001b[38;5;28;01mimport\u001b[39;00m create_prompt, create_evaluation_prompt\n\u001b[32m     13\u001b[39m \u001b[38;5;28;01mfrom\u001b[39;00m\u001b[38;5;250m \u001b[39m\u001b[34;01mrag\u001b[39;00m\u001b[34;01m.\u001b[39;00m\u001b[34;01mprompt_engineering\u001b[39;00m\u001b[38;5;250m \u001b[39m\u001b[38;5;28;01mimport\u001b[39;00m RAG_EVALUATION_SYSTEM_PROMPT, RAGEvaluation\n\u001b[32m---> \u001b[39m\u001b[32m14\u001b[39m \u001b[38;5;28;01mfrom\u001b[39;00m\u001b[38;5;250m \u001b[39m\u001b[34;01mrag\u001b[39;00m\u001b[34;01m.\u001b[39;00m\u001b[34;01magent\u001b[39;00m\u001b[38;5;250m \u001b[39m\u001b[38;5;28;01mimport\u001b[39;00m main_routing_function\n\u001b[32m     17\u001b[39m \u001b[38;5;66;03m# load env variables from .env\u001b[39;00m\n\u001b[32m     18\u001b[39m load_dotenv()\n",
      "\u001b[36mFile \u001b[39m\u001b[32m~/Documents/GitHub/BuffettAI/scripts/rag/agent.py:6\u001b[39m\n\u001b[32m      4\u001b[39m \u001b[38;5;28;01mimport\u001b[39;00m\u001b[38;5;250m \u001b[39m\u001b[34;01msys\u001b[39;00m\n\u001b[32m      5\u001b[39m \u001b[38;5;28;01mfrom\u001b[39;00m\u001b[38;5;250m \u001b[39m\u001b[34;01mtyping\u001b[39;00m\u001b[38;5;250m \u001b[39m\u001b[38;5;28;01mimport\u001b[39;00m Optional, List\n\u001b[32m----> \u001b[39m\u001b[32m6\u001b[39m \u001b[38;5;28;01mfrom\u001b[39;00m\u001b[38;5;250m \u001b[39m\u001b[34;01mgooglesearch\u001b[39;00m\u001b[38;5;250m \u001b[39m\u001b[38;5;28;01mimport\u001b[39;00m search\n\u001b[32m      7\u001b[39m \u001b[38;5;28;01mfrom\u001b[39;00m\u001b[38;5;250m \u001b[39m\u001b[34;01mbs4\u001b[39;00m\u001b[38;5;250m \u001b[39m\u001b[38;5;28;01mimport\u001b[39;00m BeautifulSoup\n\u001b[32m      8\u001b[39m \u001b[38;5;28;01mfrom\u001b[39;00m\u001b[38;5;250m \u001b[39m\u001b[34;01mlangchain\u001b[39;00m\u001b[34;01m.\u001b[39;00m\u001b[34;01mschema\u001b[39;00m\u001b[38;5;250m \u001b[39m\u001b[38;5;28;01mimport\u001b[39;00m Document\n",
      "\u001b[31mModuleNotFoundError\u001b[39m: No module named 'googlesearch'"
     ]
    }
   ],
   "source": [
    "# Example test loop (e.g., in your evaluation_notebook.ipynb)\n",
    "from rag.rag_pipeline import RAGPipeline\n",
    "\n",
    "pipeline = RAGPipeline()\n",
    "\n",
    "test_queries = [\n",
    "    \"Who is Warren Buffett and what is your investment philosophy?\",\n",
    "    \"Tell me about the latest trades of Berkshire Hathaway.\",\n",
    "    \"How do you feel about the current market conditions?\",\n",
    "    \"What are your thoughts on Tesla's innovation in the auto industry?\",\n",
    "    \"Explain the significance of shareholder letters in your investment strategy.\"\n",
    "]\n",
    "\n",
    "results = []\n",
    "for query in test_queries:\n",
    "    # Generate using the routing (agent-based) pipeline\n",
    "    routing_result = pipeline.process_query(query, baseline=False)\n",
    "    # Generate using the baseline OpenAI model\n",
    "    baseline_result = pipeline.process_query(query, baseline=True)\n",
    "    results.append({\n",
    "         \"query\": query,\n",
    "         \"routing_response\": routing_result[\"response\"],\n",
    "         \"routing_eval_score\": routing_result[\"evaluation_score\"],\n",
    "         \"baseline_response\": baseline_result[\"response\"],\n",
    "         \"baseline_eval_score\": baseline_result[\"evaluation_score\"],\n",
    "    })\n",
    "\n",
    "import pprint\n",
    "pprint.pprint(results)"
   ]
  }
 ],
 "metadata": {
  "kernelspec": {
   "display_name": "venv",
   "language": "python",
   "name": "python3"
  },
  "language_info": {
   "codemirror_mode": {
    "name": "ipython",
    "version": 3
   },
   "file_extension": ".py",
   "mimetype": "text/x-python",
   "name": "python",
   "nbconvert_exporter": "python",
   "pygments_lexer": "ipython3",
   "version": "3.11.4"
  }
 },
 "nbformat": 4,
 "nbformat_minor": 2
}
